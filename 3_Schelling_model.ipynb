{
 "cells": [
  {
   "cell_type": "code",
   "execution_count": 1,
   "metadata": {},
   "outputs": [],
   "source": [
    "import numpy as np\n",
    "\n",
    "import matplotlib.pyplot as plt"
   ]
  },
  {
   "cell_type": "code",
   "execution_count": null,
   "metadata": {},
   "outputs": [],
   "source": [
    "def init_the_map(size=100, num_of_agent_types=2, free_cells_percent=50):\n",
    "    each_agent_cells_percent = (100 - free_cells_percent) / num_of_agent_types\n",
    "\n",
    "    map = np.zeros((size, size))\n",
    "    for i in range(size):\n",
    "        for j in range(size):\n",
    "            random_num = np.random.uniform()\n",
    "            for a in range(num_of_agent_types):\n",
    "                if random_num < (a + 1) * each_agent_cells_percent:\n",
    "                    map[i][j] = a + 1\n",
    "\n",
    "    return map\n",
    "\n",
    "\n",
    "def does_want_to_move(value, cells_to_check, limit):\n",
    "    unique, counts = np.unique(cells_to_check, return_counts=True)\n",
    "    all_counts = dict(zip(unique, counts))\n",
    "\n",
    "    return all_counts[value] >= limit\n",
    "\n",
    "\n",
    "def find_who_wants_to_move(map, wished_same_neighbours=4):\n",
    "    moving_map = np.zeros(map.shape).astype(bool)\n",
    "    for i in range(moving_map.shape[0]):\n",
    "        for j in range(moving_map.shape[1]):\n",
    "            cells_to_check = []\n",
    "\n",
    "            ver_idxs = np.arange(np.max(i-1, 0), np.min(i+1, moving_map.shape[0]-1))\n",
    "            gor_idxs = np.arange(np.max(i-1, 0), np.min(i+1, moving_map.shape[1]-1))\n",
    "\n",
    "            for y in ver_idxs:\n",
    "                for x in gor_idxs:\n",
    "                    if not (y == i and x == j):\n",
    "                        cells_to_check.append(map[y][x])\n",
    "\n",
    "            moving_map = does_want_to_move(map[i][j], cells_to_check, wished_same_neighbours)\n",
    "\n",
    "    return moving_map\n",
    "\n",
    "\n",
    "def move(map, moving_map):\n",
    "    new_map = np.zeros(map.shape)\n",
    "\n",
    "    return new_map\n"
   ]
  }
 ],
 "metadata": {
  "interpreter": {
   "hash": "0e26459c914db24842f0f9734133b80369e01966225d001593bc47826ea83d45"
  },
  "kernelspec": {
   "display_name": "Python 3.8.3 64-bit ('base': conda)",
   "name": "python3"
  },
  "language_info": {
   "codemirror_mode": {
    "name": "ipython",
    "version": 3
   },
   "file_extension": ".py",
   "mimetype": "text/x-python",
   "name": "python",
   "nbconvert_exporter": "python",
   "pygments_lexer": "ipython3",
   "version": "3.8.3"
  },
  "orig_nbformat": 4
 },
 "nbformat": 4,
 "nbformat_minor": 2
}
