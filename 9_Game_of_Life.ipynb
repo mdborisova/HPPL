{
 "cells": [
  {
   "cell_type": "code",
   "execution_count": 1,
   "id": "d8edaebe-a6e4-42c5-b58b-90ad7b48e01c",
   "metadata": {},
   "outputs": [
    {
     "name": "stdout",
     "output_type": "stream",
     "text": [
      "Writing task_09_game_of_life.py\n"
     ]
    }
   ],
   "source": [
    "%%writefile task_09_game_of_life.py\n",
    "\n",
    "import io\n",
    "import numpy as np\n",
    "import matplotlib.pyplot as plt\n",
    "\n",
    "from PIL import Image\n",
    "\n",
    "\n",
    "h_step = np.array((-1, -1, -1, 0, 0, 1, 1, 1), dtype=int)\n",
    "w_step = np.array((-1, 0, 1, -1, 1, -1, 0, 1), dtype=int)\n",
    "\n",
    "def step(X, ind_from, ind_to):\n",
    "    h = X.shape[0]\n",
    "    w = X.shape[1]\n",
    "    res = np.zeros((ind_to - ind_from, w), dtype=int)\n",
    "    for i in range(ind_from, ind_to):\n",
    "        for j in range(w):\n",
    "            res[i - ind_from][j] = X[(h_step + i) % h, (w_step + j) % w].sum()\n",
    "    return (res == 3) | (X[ind_from:ind_to] & (res == 2))\n",
    "\n",
    "def matrix_to_im_arr(M, results):\n",
    "    buf = io.BytesIO()\n",
    "    f = plt.figure(figsize=(14, 8))\n",
    "    ax1 = f.add_subplot(121)\n",
    "    ax2 = f.add_subplot(122)\n",
    "    ax1.imshow(M, cmap='gray')\n",
    "    ax1.set_xticks([])\n",
    "    ax1.set_yticks([])\n",
    "    ax2.plot(results)\n",
    "    ax2.set_xticks(range(len(results)), minor=True)\n",
    "    plt.savefig(buf, format=\"png\")\n",
    "    plt.close('all')\n",
    "    buf.seek(0)\n",
    "    return Image.open(buf)\n",
    "\n",
    "\n",
    "# Glider gun\n",
    "glider_gun =\\\n",
    "[[0,0,0,0,0,0,0,0,0,0,0,0,0,0,0,0,0,0,0,0,0,0,0,0,1,0,0,0,0,0,0,0,0,0,0,0],\n",
    " [0,0,0,0,0,0,0,0,0,0,0,0,0,0,0,0,0,0,0,0,0,0,1,0,1,0,0,0,0,0,0,0,0,0,0,0],\n",
    " [0,0,0,0,0,0,0,0,0,0,0,0,1,1,0,0,0,0,0,0,1,1,0,0,0,0,0,0,0,0,0,0,0,0,1,1],\n",
    " [0,0,0,0,0,0,0,0,0,0,0,1,0,0,0,1,0,0,0,0,1,1,0,0,0,0,0,0,0,0,0,0,0,0,1,1],\n",
    " [1,1,0,0,0,0,0,0,0,0,1,0,0,0,0,0,1,0,0,0,1,1,0,0,0,0,0,0,0,0,0,0,0,0,0,0],\n",
    " [1,1,0,0,0,0,0,0,0,0,1,0,0,0,1,0,1,1,0,0,0,0,1,0,1,0,0,0,0,0,0,0,0,0,0,0],\n",
    " [0,0,0,0,0,0,0,0,0,0,1,0,0,0,0,0,1,0,0,0,0,0,0,0,1,0,0,0,0,0,0,0,0,0,0,0],\n",
    " [0,0,0,0,0,0,0,0,0,0,0,1,0,0,0,1,0,0,0,0,0,0,0,0,0,0,0,0,0,0,0,0,0,0,0,0],\n",
    " [0,0,0,0,0,0,0,0,0,0,0,0,1,1,0,0,0,0,0,0,0,0,0,0,0,0,0,0,0,0,0,0,0,0,0,0]]\n",
    "\n",
    "GLIDER_GUN = np.zeros((50, 70), dtype=int)\n",
    "GLIDER_GUN[2:11,1:37] = glider_gun\n",
    "\n",
    "# Glider\n",
    "glider = [[1, 0, 0],\n",
    "          [0, 1, 1],\n",
    "          [1, 1, 0]]\n",
    "GLIDER = np.zeros((8, 8), dtype=int)\n",
    "GLIDER[:3, :3] = glider\n",
    "\n",
    "# Unbounded Growth\n",
    "unbounded = [[1, 1, 1, 0, 1],\n",
    "             [1, 0, 0, 0, 0],\n",
    "             [0, 0, 0, 1, 1],\n",
    "             [0, 1, 1, 0, 1],\n",
    "             [1, 0, 1, 0, 1]]\n",
    "UNBOUNDED = np.zeros((30, 40), dtype=int)\n",
    "UNBOUNDED[15:20, 18:23] = unbounded"
   ]
  },
  {
   "cell_type": "code",
   "execution_count": 2,
   "id": "975aa90a-ba29-48e2-a066-d0b4c0e83f8d",
   "metadata": {},
   "outputs": [],
   "source": [
    "import os\n",
    "import io\n",
    "import imageio\n",
    "import numpy as np\n",
    "import matplotlib.pyplot as plt\n",
    "\n",
    "from PIL import Image\n",
    "from task_09_game_of_life import *"
   ]
  },
  {
   "cell_type": "code",
   "execution_count": 3,
   "id": "55c91f99-ae5b-4384-9a72-fd386cfb1fa1",
   "metadata": {},
   "outputs": [],
   "source": [
    "def get_animation(matrix, steps):\n",
    "    M = matrix.copy()\n",
    "    images = []\n",
    "    results = []\n",
    "    for i in range(steps):\n",
    "        M = step(M, 0, M.shape[0])\n",
    "        results.append(np.sum(M))\n",
    "        images.append(matrix_to_im_arr(M, results))\n",
    "    return images"
   ]
  },
  {
   "cell_type": "markdown",
   "id": "40d57460-8899-477d-ba79-1e2b596dd592",
   "metadata": {},
   "source": [
    "### The \"Gosper Glider Gun\""
   ]
  },
  {
   "cell_type": "code",
   "execution_count": 4,
   "id": "b06c6839-f77e-436f-8ea1-4b8203e290e7",
   "metadata": {},
   "outputs": [],
   "source": [
    "images = get_animation(GLIDER_GUN, steps=175)\n",
    "imageio.mimsave('golder_gun.gif', images, fps=10)"
   ]
  },
  {
   "cell_type": "markdown",
   "id": "30b24904-981b-469d-a068-e2a8a2a328c5",
   "metadata": {},
   "source": [
    "![GIF](golder_gun.gif)"
   ]
  },
  {
   "cell_type": "markdown",
   "id": "3d293c3c-43ba-4bc3-9371-458dc9418c8b",
   "metadata": {},
   "source": [
    "### The \"Glider\""
   ]
  },
  {
   "cell_type": "code",
   "execution_count": 5,
   "id": "628f2662-ed89-411e-8497-4023697c2991",
   "metadata": {},
   "outputs": [],
   "source": [
    "images = get_animation(GLIDER, steps=100)\n",
    "imageio.mimsave('glider.gif', images, fps=4)"
   ]
  },
  {
   "cell_type": "markdown",
   "id": "8bb0118d-3b80-413d-b674-0ebcaf8dc416",
   "metadata": {},
   "source": [
    "![GIF](glider.gif)"
   ]
  },
  {
   "cell_type": "markdown",
   "id": "43ed7137-fb2e-490f-abc1-adb5867c992d",
   "metadata": {},
   "source": [
    "### Unbounded Growth"
   ]
  },
  {
   "cell_type": "code",
   "execution_count": 6,
   "id": "4a665012-1d68-4642-95c1-9f4e0cdb0548",
   "metadata": {},
   "outputs": [],
   "source": [
    "images = get_animation(UNBOUNDED, steps=100)\n",
    "imageio.mimsave('unbounded_growth.gif', images, fps=4)"
   ]
  },
  {
   "cell_type": "markdown",
   "id": "25a25d2b-6e4e-4732-80c7-604f8f4d7229",
   "metadata": {},
   "source": [
    "![GIF](unbounded_growth.gif)"
   ]
  },
  {
   "cell_type": "markdown",
   "id": "df768041-2c87-4f42-b69c-b3f338f3172d",
   "metadata": {},
   "source": [
    "## MPI"
   ]
  },
  {
   "cell_type": "code",
   "execution_count": 7,
   "id": "72e34ae3-2461-4e8b-a880-a8ace8ae6b10",
   "metadata": {},
   "outputs": [
    {
     "name": "stdout",
     "output_type": "stream",
     "text": [
      "Writing task_09_game_of_life_mpi.py\n"
     ]
    }
   ],
   "source": [
    "%%writefile task_09_game_of_life_mpi.py\n",
    "\n",
    "import os\n",
    "import io\n",
    "import time\n",
    "import imageio\n",
    "import numpy as np\n",
    "import matplotlib.pyplot as plt\n",
    "\n",
    "from PIL import Image\n",
    "from mpi4py import MPI\n",
    "\n",
    "from task_09_game_of_life import *\n",
    "\n",
    "\n",
    "comm = MPI.COMM_WORLD\n",
    "size = comm.Get_size()\n",
    "rank = comm.Get_rank()\n",
    "\n",
    "IS_ROOT = rank == 0\n",
    "IS_SAVE = False\n",
    "STEPS = 2000\n",
    "M = GLIDER_GUN\n",
    "\n",
    "H = M.shape[0]\n",
    "W = M.shape[1]\n",
    "\n",
    "numDataPerRank = H // size\n",
    "\n",
    "if IS_ROOT:\n",
    "    numDataPerRank =  H - (numDataPerRank * (size - 1))\n",
    "\n",
    "received = np.empty((numDataPerRank, W), dtype=int)\n",
    "sendcounts = np.array(comm.gather(received.size, 0))\n",
    "\n",
    "if not IS_ROOT:\n",
    "    sendcounts = np.zeros(size, dtype=int)\n",
    "\n",
    "comm.Bcast(sendcounts, root=0)\n",
    "ind_from = np.sum(sendcounts[:rank]) // W\n",
    "ind_to = np.sum(sendcounts[:rank+1]) // W\n",
    "\n",
    "images = []\n",
    "results_count = []\n",
    "\n",
    "for i in range(STEPS):\n",
    "    comm.Bcast(M, root=0)\n",
    "    \n",
    "    res = step(M, ind_from, ind_to)\n",
    "    comm.Gatherv(res, (M, sendcounts), root=0)\n",
    "        \n",
    "    if IS_ROOT and IS_SAVE:\n",
    "        results_count.append(np.sum(M))\n",
    "        images.append(matrix_to_im_arr(M, results_count))\n",
    "\n",
    "if IS_ROOT and IS_SAVE:\n",
    "    imageio.mimsave('golder_gun.gif', images, fps=10)"
   ]
  },
  {
   "cell_type": "code",
   "execution_count": 8,
   "id": "50533c0a-cd26-49b7-9597-187a5c8292ea",
   "metadata": {},
   "outputs": [
    {
     "name": "stdout",
     "output_type": "stream",
     "text": [
      "Num of processes: 1,\t39.1 s ± 714 ms per loop (mean ± std. dev. of 3 runs, 1 loop each)\n",
      "Num of processes: 2,\t21 s ± 252 ms per loop (mean ± std. dev. of 3 runs, 1 loop each)\n",
      "Num of processes: 3,\t15.5 s ± 143 ms per loop (mean ± std. dev. of 3 runs, 1 loop each)\n",
      "Num of processes: 4,\t12.6 s ± 134 ms per loop (mean ± std. dev. of 3 runs, 1 loop each)\n",
      "Num of processes: 5,\t9.82 s ± 125 ms per loop (mean ± std. dev. of 3 runs, 1 loop each)\n",
      "Num of processes: 6,\t9.55 s ± 96.6 ms per loop (mean ± std. dev. of 3 runs, 1 loop each)\n",
      "Num of processes: 7,\t7.89 s ± 135 ms per loop (mean ± std. dev. of 3 runs, 1 loop each)\n",
      "Num of processes: 8,\t7.95 s ± 100 ms per loop (mean ± std. dev. of 3 runs, 1 loop each)\n"
     ]
    }
   ],
   "source": [
    "time_arr = []\n",
    "processes = range(1, 9)\n",
    "for i in processes:\n",
    "    print(f'Num of processes: {i},\\t', end='')\n",
    "    t = %timeit -o -r 3 !mpirun -n {i} --allow-run-as-root --mca btl ^vader python3 task_09_game_of_life_mpi.py\n",
    "    time_arr.append(t.best)"
   ]
  },
  {
   "cell_type": "code",
   "execution_count": 9,
   "id": "cfac29a9-af05-44db-b051-8a0e72159853",
   "metadata": {},
   "outputs": [
    {
     "data": {
      "text/plain": [
       "Text(0.5, 0.98, 'SpeedUp vs Num of processes')"
      ]
     },
     "execution_count": 9,
     "metadata": {},
     "output_type": "execute_result"
    },
    {
     "data": {
      "image/png": "[encoded data removed]",
      "text/plain": [
       "<Figure size 720x576 with 1 Axes>"
      ]
     },
     "metadata": {
      "needs_background": "light"
     },
     "output_type": "display_data"
    }
   ],
   "source": [
    "speedup = time_arr[0] / np.array(time_arr)\n",
    "\n",
    "plt.figure(figsize=(10, 8))\n",
    "plt.plot(processes, speedup)\n",
    "plt.xticks(processes)\n",
    "plt.xlabel('Num of processes', fontsize=20)\n",
    "plt.ylabel('SpeedUp = T(1)/T(n)', fontsize=20)\n",
    "plt.suptitle('SpeedUp vs Num of processes', fontsize=20)"
   ]
  }
 ],
 "metadata": {
  "kernelspec": {
   "display_name": "Python 3 (ipykernel)",
   "language": "python",
   "name": "python3"
  },
  "language_info": {
   "codemirror_mode": {
    "name": "ipython",
    "version": 3
   },
   "file_extension": ".py",
   "mimetype": "text/x-python",
   "name": "python",
   "nbconvert_exporter": "python",
   "pygments_lexer": "ipython3",
   "version": "3.8.10"
  }
 },
 "nbformat": 4,
 "nbformat_minor": 5
}
